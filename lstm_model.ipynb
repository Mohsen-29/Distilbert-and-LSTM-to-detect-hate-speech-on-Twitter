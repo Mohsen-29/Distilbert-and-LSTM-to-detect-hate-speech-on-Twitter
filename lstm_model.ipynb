{
 "cells": [
  {
   "cell_type": "code",
   "execution_count": 1,
   "id": "51870fc6",
   "metadata": {},
   "outputs": [
    {
     "name": "stderr",
     "output_type": "stream",
     "text": [
      "[nltk_data] Downloading package stopwords to\n",
      "[nltk_data]     /Users/mohsenboughriou/nltk_data...\n",
      "[nltk_data]   Package stopwords is already up-to-date!\n"
     ]
    }
   ],
   "source": [
    "import pandas as pd\n",
    "from sklearn.model_selection import train_test_split\n",
    "import numpy as np\n",
    "import nltk\n",
    "nltk.download('stopwords')\n",
    "import nltk\n",
    "import re\n",
    "import tensorflow\n",
    "import torch\n",
    "from tensorflow import keras\n",
    "from tensorflow.keras.layers import Embedding\n",
    "from tensorflow.keras.preprocessing.sequence import pad_sequences\n",
    "from tensorflow.keras.models import Sequential\n",
    "from tensorflow.keras.preprocessing.text import one_hot\n",
    "from tensorflow.keras.layers import LSTM\n",
    "from tensorflow.keras.layers import Dense\n",
    "import matplotlib.pyplot as plt\n",
    "from sklearn.metrics import confusion_matrix\n",
    "from sklearn.metrics import classification_report"
   ]
  },
  {
   "cell_type": "code",
   "execution_count": 2,
   "id": "3c803b3f",
   "metadata": {},
   "outputs": [],
   "source": [
    "#we concatenate two data sets in order to obtain two balanced classes in our dataset \n",
    "df=pd.read_csv(r'....labeled_data.csv')\n",
    "df1=pd.read_csv(r'..../TwitterHate.csv')"
   ]
  },
  {
   "cell_type": "code",
   "execution_count": 3,
   "id": "6d713b29",
   "metadata": {},
   "outputs": [],
   "source": [
    "col=[0,1,2,3,4]\n",
    "df=df.drop(df.columns[col], axis=1)"
   ]
  },
  {
   "cell_type": "code",
   "execution_count": 4,
   "id": "e5711348",
   "metadata": {},
   "outputs": [
    {
     "data": {
      "text/plain": [
       "1    19190\n",
       "2     4163\n",
       "0     1430\n",
       "Name: class, dtype: int64"
      ]
     },
     "execution_count": 4,
     "metadata": {},
     "output_type": "execute_result"
    }
   ],
   "source": [
    "df['class'].value_counts()"
   ]
  },
  {
   "cell_type": "code",
   "execution_count": 5,
   "id": "c7c784bc",
   "metadata": {},
   "outputs": [
    {
     "data": {
      "text/plain": [
       "1    20620\n",
       "0     4163\n",
       "Name: class, dtype: int64"
      ]
     },
     "execution_count": 5,
     "metadata": {},
     "output_type": "execute_result"
    }
   ],
   "source": [
    "df['class'] = df['class'].replace([0],1)\n",
    "df['class'] = df['class'].replace([2],0)\n",
    "df['class'].value_counts()"
   ]
  },
  {
   "cell_type": "code",
   "execution_count": 6,
   "id": "ef19da2e",
   "metadata": {},
   "outputs": [],
   "source": [
    "df1=df1.drop('id',axis=1)\n",
    "df1=df1.rename(columns={'label':'class'})"
   ]
  },
  {
   "cell_type": "code",
   "execution_count": 7,
   "id": "5886ebf5",
   "metadata": {},
   "outputs": [
    {
     "data": {
      "text/plain": [
       "0    29720\n",
       "1     2242\n",
       "Name: class, dtype: int64"
      ]
     },
     "execution_count": 7,
     "metadata": {},
     "output_type": "execute_result"
    }
   ],
   "source": [
    "df1['class'].value_counts()"
   ]
  },
  {
   "cell_type": "code",
   "execution_count": 8,
   "id": "6b0bdcf6",
   "metadata": {},
   "outputs": [],
   "source": [
    "df2=df1.loc[df1['class'] == 0]\n",
    "df1=df2.iloc[0:16457]\n",
    "df=pd.concat([df,df1], axis=0)"
   ]
  },
  {
   "cell_type": "code",
   "execution_count": 9,
   "id": "1a5c58f1",
   "metadata": {},
   "outputs": [
    {
     "data": {
      "text/plain": [
       "0    20620\n",
       "1    20620\n",
       "Name: class, dtype: int64"
      ]
     },
     "execution_count": 9,
     "metadata": {},
     "output_type": "execute_result"
    }
   ],
   "source": [
    "df['class'].value_counts()"
   ]
  },
  {
   "cell_type": "code",
   "execution_count": 10,
   "id": "1e22e53e",
   "metadata": {},
   "outputs": [],
   "source": [
    "tweet=df.tweet"
   ]
  },
  {
   "cell_type": "code",
   "execution_count": 11,
   "id": "feb86573",
   "metadata": {},
   "outputs": [],
   "source": [
    "tweet=(tweet)\n",
    "tweet.reset_index(drop=True, inplace=True)"
   ]
  },
  {
   "cell_type": "code",
   "execution_count": 12,
   "id": "1046c68b",
   "metadata": {},
   "outputs": [
    {
     "name": "stderr",
     "output_type": "stream",
     "text": [
      "/var/folders/xb/qwgsqylj7j7c10t_q8rvnf_c0000gn/T/ipykernel_1162/2767197856.py:18: FutureWarning: The default value of regex will change from True to False in a future version.\n",
      "  punc_remove = tweets.str.replace(\"[^a-zA-Z]\", \" \")\n",
      "/var/folders/xb/qwgsqylj7j7c10t_q8rvnf_c0000gn/T/ipykernel_1162/2767197856.py:19: FutureWarning: The default value of regex will change from True to False in a future version.\n",
      "  newtweet=punc_remove.str.replace(r'\\s+', ' ')\n",
      "/var/folders/xb/qwgsqylj7j7c10t_q8rvnf_c0000gn/T/ipykernel_1162/2767197856.py:20: FutureWarning: The default value of regex will change from True to False in a future version.\n",
      "  newtweet=newtweet.str.replace(r'^\\s+|\\s+?$','')\n",
      "/var/folders/xb/qwgsqylj7j7c10t_q8rvnf_c0000gn/T/ipykernel_1162/2767197856.py:21: FutureWarning: The default value of regex will change from True to False in a future version.\n",
      "  newtweet=newtweet.str.replace(r'\\d+(\\.\\d+)?','numbr')\n"
     ]
    },
    {
     "name": "stdout",
     "output_type": "stream",
     "text": [
      "                                               tweet  \\\n",
      "0  !!! RT @mayasolovely: As a woman you shouldn't...   \n",
      "1  !!!!! RT @mleew17: boy dats cold...tyga dwn ba...   \n",
      "2  !!!!!!! RT @UrKindOfBrand Dawg!!!! RT @80sbaby...   \n",
      "3  !!!!!!!!! RT @C_G_Anderson: @viva_based she lo...   \n",
      "4  !!!!!!!!!!!!! RT @ShenikaRoberts: The shit you...   \n",
      "5  !!!!!!!!!!!!!!!!!!\"@T_Madison_x: The shit just...   \n",
      "6  !!!!!!\"@__BrighterDays: I can not just sit up ...   \n",
      "7  !!!!&#8220;@selfiequeenbri: cause I'm tired of...   \n",
      "8  \" &amp; you might not get ya bitch back &amp; ...   \n",
      "9  \" @rhythmixx_ :hobbies include: fighting Maria...   \n",
      "\n",
      "                                    processed_tweets  \n",
      "0  woman complain cleaning house amp man always t...  \n",
      "1  boy dats cold tyga dwn bad cuffin dat hoe st p...  \n",
      "2       dawg ever fuck bitch start cry confused shit  \n",
      "3                                   look like tranny  \n",
      "4     shit hear might true might faker bitch told ya  \n",
      "5  shit blows claim faithful somebody still fucki...  \n",
      "6         sit hate another bitch got much shit going  \n",
      "7     cause tired big bitches coming us skinny girls  \n",
      "8              amp might get ya bitch back amp thats  \n",
      "9              hobbies include fighting mariam bitch  \n"
     ]
    }
   ],
   "source": [
    "stopwords = nltk.corpus.stopwords.words(\"english\")\n",
    "\n",
    "other_exclusions = [\"#ff\", \"ff\", \"rt\"]\n",
    "stopwords.extend(other_exclusions)\n",
    "\n",
    "def preprocess(tweet):  \n",
    "    \n",
    "    regex_pat = re.compile(r'\\s+')\n",
    "    tweet_space = tweet.str.replace(regex_pat,' ')\n",
    "\n",
    "    regex_pat = re.compile(r'@[\\w\\-]+')\n",
    "    tweet_name = tweet_space.str.replace(regex_pat, '')\n",
    "\n",
    "    giant_url_regex =  re.compile('http[s]?://(?:[a-zA-Z]|[0-9]|[$-_@.&+]|'\n",
    "            '[!*\\(\\),]|(?:%[0-9a-fA-F][0-9a-fA-F]))+')\n",
    "    tweets = tweet_name.str.replace(giant_url_regex, '')\n",
    "    \n",
    "    punc_remove = tweets.str.replace(\"[^a-zA-Z]\", \" \")\n",
    "    newtweet=punc_remove.str.replace(r'\\s+', ' ')\n",
    "    newtweet=newtweet.str.replace(r'^\\s+|\\s+?$','')\n",
    "    newtweet=newtweet.str.replace(r'\\d+(\\.\\d+)?','numbr')\n",
    "    tweet_lower = newtweet.str.lower()\n",
    "    \n",
    "    tokenized_tweet = tweet_lower.apply(lambda x: x.split())\n",
    "    \n",
    "    tokenized_tweet=  tokenized_tweet.apply(lambda x: [item for item in x if item not in stopwords])\n",
    "    \n",
    "    \n",
    "    for i in range(len(tokenized_tweet)):\n",
    "        tokenized_tweet[i] = ' '.join(tokenized_tweet[i])\n",
    "        tweets_p= tokenized_tweet\n",
    "    \n",
    "    return tweets_p\n",
    "\n",
    "processed_tweets = preprocess(tweet)   \n",
    "\n",
    "df['processed_tweets'] = processed_tweets\n",
    "print(df[[\"tweet\",\"processed_tweets\"]].head(10))"
   ]
  },
  {
   "cell_type": "code",
   "execution_count": 13,
   "id": "57f4b34b",
   "metadata": {},
   "outputs": [
    {
     "data": {
      "text/plain": [
       "(41240,)"
      ]
     },
     "execution_count": 13,
     "metadata": {},
     "output_type": "execute_result"
    }
   ],
   "source": [
    "np.shape(processed_tweets)"
   ]
  },
  {
   "cell_type": "code",
   "execution_count": 14,
   "id": "4a62d5d2",
   "metadata": {},
   "outputs": [],
   "source": [
    "# we define the vocabulary size\n",
    "voc_size=4000\n",
    "\n",
    "onehot_tweets = [one_hot(words, voc_size) for words in processed_tweets]\n"
   ]
  },
  {
   "cell_type": "code",
   "execution_count": 15,
   "id": "6e903d35",
   "metadata": {},
   "outputs": [
    {
     "name": "stdout",
     "output_type": "stream",
     "text": [
      "[[   0    0    0 ...  387 1518 1839]\n",
      " [   0    0    0 ... 1538 3680 1538]\n",
      " [   0    0    0 ...  563  441 2803]\n",
      " ...\n",
      " [   0    0    0 ...  206 3295 1645]\n",
      " [   0    0    0 ... 1834 2696 3637]\n",
      " [   0    0    0 ...  329 1133 1081]]\n"
     ]
    }
   ],
   "source": [
    "max_len=23\n",
    "embedded_tweets=pad_sequences(onehot_tweets,padding='pre',maxlen=max_len)\n",
    "print(embedded_tweets)"
   ]
  },
  {
   "cell_type": "code",
   "execution_count": 16,
   "id": "eeb2f1e7",
   "metadata": {},
   "outputs": [],
   "source": [
    "y=df['class']"
   ]
  },
  {
   "cell_type": "code",
   "execution_count": 17,
   "id": "ae31a96d",
   "metadata": {},
   "outputs": [],
   "source": [
    "X_train,X_val,y_train,y_val=train_test_split(embedded_tweets,y, train_size=0.7,test_size=0.3, random_state=42)"
   ]
  },
  {
   "cell_type": "code",
   "execution_count": 18,
   "id": "ce3d2afb",
   "metadata": {},
   "outputs": [
    {
     "name": "stdout",
     "output_type": "stream",
     "text": [
      "28867\n",
      "28867\n",
      "12372\n",
      "12372\n"
     ]
    }
   ],
   "source": [
    "X_train=list(X_train)\n",
    "y_train=list(y_train)\n",
    "X_val=list(X_val)\n",
    "y_val=list(y_val)\n",
    "print(len(X_train))\n",
    "print(len(y_train))\n",
    "print(len(X_val))\n",
    "print(len(y_val))"
   ]
  },
  {
   "cell_type": "code",
   "execution_count": 19,
   "id": "7a9df08d",
   "metadata": {},
   "outputs": [
    {
     "name": "stdout",
     "output_type": "stream",
     "text": [
      "Metal device set to: Apple M2\n",
      "WARNING:tensorflow:Layer lstm will not use cuDNN kernels since it doesn't meet the criteria. It will use a generic GPU kernel as fallback when running on GPU.\n",
      "Model: \"sequential\"\n",
      "_________________________________________________________________\n",
      " Layer (type)                Output Shape              Param #   \n",
      "=================================================================\n",
      " embedding (Embedding)       (None, 23, 50)            200000    \n",
      "                                                                 \n",
      " lstm (LSTM)                 (None, 100)               60400     \n",
      "                                                                 \n",
      " dense (Dense)               (None, 1)                 101       \n",
      "                                                                 \n",
      "=================================================================\n",
      "Total params: 260,501\n",
      "Trainable params: 260,501\n",
      "Non-trainable params: 0\n",
      "_________________________________________________________________\n",
      "None\n"
     ]
    },
    {
     "name": "stderr",
     "output_type": "stream",
     "text": [
      "2023-04-03 12:18:13.646752: I tensorflow/core/common_runtime/pluggable_device/pluggable_device_factory.cc:306] Could not identify NUMA node of platform GPU ID 0, defaulting to 0. Your kernel may not have been built with NUMA support.\n",
      "2023-04-03 12:18:13.647131: I tensorflow/core/common_runtime/pluggable_device/pluggable_device_factory.cc:272] Created TensorFlow device (/job:localhost/replica:0/task:0/device:GPU:0 with 0 MB memory) -> physical PluggableDevice (device: 0, name: METAL, pci bus id: <undefined>)\n"
     ]
    }
   ],
   "source": [
    "#we define our model\n",
    "embedding_vector_features=50\n",
    "model=Sequential()\n",
    "model.add(Embedding(voc_size,embedding_vector_features,input_length=max_len))\n",
    "model.add(LSTM(100,activation='relu'))\n",
    "model.add(Dense(1,activation='sigmoid'))\n",
    "\n",
    "opt = keras.optimizers.Adam(learning_rate=0.01)\n",
    "model.compile(loss='binary_crossentropy',optimizer=opt,metrics=['accuracy'])\n",
    "print(model.summary())"
   ]
  },
  {
   "cell_type": "code",
   "execution_count": 20,
   "id": "6d485b19",
   "metadata": {},
   "outputs": [
    {
     "name": "stdout",
     "output_type": "stream",
     "text": [
      "Epoch 1/5\n"
     ]
    },
    {
     "name": "stderr",
     "output_type": "stream",
     "text": [
      "2023-04-03 12:18:13.890022: W tensorflow/core/platform/profile_utils/cpu_utils.cc:128] Failed to get CPU frequency: 0 Hz\n",
      "2023-04-03 12:18:14.317259: I tensorflow/core/grappler/optimizers/custom_graph_optimizer_registry.cc:114] Plugin optimizer for device_type GPU is enabled.\n"
     ]
    },
    {
     "name": "stdout",
     "output_type": "stream",
     "text": [
      "57/57 [==============================] - ETA: 0s - loss: 0.3959 - accuracy: 0.8464"
     ]
    },
    {
     "name": "stderr",
     "output_type": "stream",
     "text": [
      "2023-04-03 12:18:44.538729: I tensorflow/core/grappler/optimizers/custom_graph_optimizer_registry.cc:114] Plugin optimizer for device_type GPU is enabled.\n"
     ]
    },
    {
     "name": "stdout",
     "output_type": "stream",
     "text": [
      "57/57 [==============================] - 32s 541ms/step - loss: 0.3959 - accuracy: 0.8464 - val_loss: 0.1856 - val_accuracy: 0.9381\n",
      "Epoch 2/5\n",
      "57/57 [==============================] - 30s 534ms/step - loss: 0.1332 - accuracy: 0.9541 - val_loss: 0.1640 - val_accuracy: 0.9439\n",
      "Epoch 3/5\n",
      "57/57 [==============================] - 30s 532ms/step - loss: 0.0983 - accuracy: 0.9644 - val_loss: 0.1735 - val_accuracy: 0.9415\n",
      "Epoch 4/5\n",
      "57/57 [==============================] - 30s 531ms/step - loss: 0.0755 - accuracy: 0.9726 - val_loss: 0.2006 - val_accuracy: 0.9406\n",
      "Epoch 5/5\n",
      "57/57 [==============================] - 30s 531ms/step - loss: 0.0583 - accuracy: 0.9782 - val_loss: 0.2485 - val_accuracy: 0.9355\n"
     ]
    }
   ],
   "source": [
    "X_train = np.array(X_train)\n",
    "y_train = np.array(y_train)\n",
    "\n",
    "X_val = np.array(X_val)\n",
    "y_val = np.array(y_val)\n",
    "\n",
    "history=model.fit(X_train,y_train,validation_data=(X_val,y_val),epochs=5,batch_size=512)\n"
   ]
  },
  {
   "cell_type": "code",
   "execution_count": 21,
   "id": "3df73f7f",
   "metadata": {},
   "outputs": [],
   "source": [
    "#We save the model\n",
    "model.save(r'..../lstm model')"
   ]
  },
  {
   "cell_type": "code",
   "execution_count": 22,
   "id": "7f4f3e78",
   "metadata": {},
   "outputs": [
    {
     "name": "stdout",
     "output_type": "stream",
     "text": [
      "dict_keys(['loss', 'accuracy', 'val_loss', 'val_accuracy'])\n"
     ]
    },
    {
     "data": {
      "image/png": "[encoded data removed]",
      "text/plain": [
       "<Figure size 640x480 with 1 Axes>"
      ]
     },
     "metadata": {},
     "output_type": "display_data"
    },
    {
     "data": {
      "image/png": "[encoded data removed]",
      "text/plain": [
       "<Figure size 640x480 with 1 Axes>"
      ]
     },
     "metadata": {},
     "output_type": "display_data"
    }
   ],
   "source": [
    "print(history.history.keys())\n",
    "\n",
    "plt.plot(history.history['accuracy'])\n",
    "plt.plot(history.history['val_accuracy'])\n",
    "plt.title('model accuracy')\n",
    "plt.ylabel('accuracy')\n",
    "plt.xlabel('epoch')\n",
    "plt.legend(['train', 'validation'], loc='upper left')\n",
    "plt.show()\n",
    "\n",
    "plt.plot(history.history['loss'])\n",
    "plt.plot(history.history['val_loss'])\n",
    "plt.title('model loss')\n",
    "plt.ylabel('loss')\n",
    "plt.xlabel('epoch')\n",
    "plt.legend(['train', 'validation'], loc='upper left')\n",
    "plt.show()"
   ]
  },
  {
   "cell_type": "code",
   "execution_count": 23,
   "id": "e6e958ba",
   "metadata": {},
   "outputs": [
    {
     "name": "stdout",
     "output_type": "stream",
     "text": [
      "  3/387 [..............................] - ETA: 13s"
     ]
    },
    {
     "name": "stderr",
     "output_type": "stream",
     "text": [
      "2023-04-03 12:20:47.015595: I tensorflow/core/grappler/optimizers/custom_graph_optimizer_registry.cc:114] Plugin optimizer for device_type GPU is enabled.\n"
     ]
    },
    {
     "name": "stdout",
     "output_type": "stream",
     "text": [
      "387/387 [==============================] - 11s 28ms/step\n"
     ]
    }
   ],
   "source": [
    "y_val_pred=model.predict(X_val)"
   ]
  },
  {
   "cell_type": "code",
   "execution_count": 28,
   "id": "38c317e1",
   "metadata": {},
   "outputs": [],
   "source": [
    "y_val_pred = list(map(lambda x: 0 if x<0.5 else 1, y_val_pred))\n"
   ]
  },
  {
   "cell_type": "code",
   "execution_count": 25,
   "id": "233dd8bd",
   "metadata": {},
   "outputs": [
    {
     "data": {
      "text/plain": [
       "array([[5766,  470],\n",
       "       [ 328, 5808]])"
      ]
     },
     "execution_count": 25,
     "metadata": {},
     "output_type": "execute_result"
    }
   ],
   "source": [
    "confusion_matrix(y_val,y_val_pred)"
   ]
  },
  {
   "cell_type": "code",
   "execution_count": 26,
   "id": "7849d524",
   "metadata": {
    "scrolled": true
   },
   "outputs": [
    {
     "name": "stdout",
     "output_type": "stream",
     "text": [
      "                precision    recall  f1-score   support\n",
      "\n",
      "No hate speech       0.95      0.92      0.94      6236\n",
      "   Hate speech       0.93      0.95      0.94      6136\n",
      "\n",
      "      accuracy                           0.94     12372\n",
      "     macro avg       0.94      0.94      0.94     12372\n",
      "  weighted avg       0.94      0.94      0.94     12372\n",
      "\n"
     ]
    }
   ],
   "source": [
    "target_names = ['No hate speech','Hate speech']\n",
    "print(classification_report(y_val, y_val_pred, target_names=target_names))"
   ]
  }
 ],
 "metadata": {
  "kernelspec": {
   "display_name": "Python 3.9 (tensorflow)",
   "language": "python",
   "name": "tensorflow"
  },
  "language_info": {
   "codemirror_mode": {
    "name": "ipython",
    "version": 3
   },
   "file_extension": ".py",
   "mimetype": "text/x-python",
   "name": "python",
   "nbconvert_exporter": "python",
   "pygments_lexer": "ipython3",
   "version": "3.9.13"
  }
 },
 "nbformat": 4,
 "nbformat_minor": 5
}
